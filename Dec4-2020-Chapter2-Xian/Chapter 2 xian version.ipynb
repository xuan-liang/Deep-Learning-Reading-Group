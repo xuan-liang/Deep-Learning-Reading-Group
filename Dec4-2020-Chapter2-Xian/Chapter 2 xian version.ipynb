{
 "cells": [
  {
   "cell_type": "markdown",
   "metadata": {},
   "source": [
    "[![Open In Colab](https://colab.research.google.com/assets/colab-badge.svg)](https://colab.research.google.com/github/xuan-liang/Deep-Learning-Reading-Group/blob/main/Dec4-2020-Chapter2-Xian/Chapter%202%20xian%20version.ipynb)\n",
    "\n",
    "## make sure you can run the following code"
   ]
  },
  {
   "cell_type": "code",
   "execution_count": 5,
   "metadata": {},
   "outputs": [
    {
     "ename": "ModuleNotFoundError",
     "evalue": "No module named 'keras'",
     "output_type": "error",
     "traceback": [
      "\u001b[0;31m---------------------------------------------------------------------------\u001b[0m",
      "\u001b[0;31mModuleNotFoundError\u001b[0m                       Traceback (most recent call last)",
      "\u001b[0;32m<ipython-input-5-46ce6b1691ee>\u001b[0m in \u001b[0;36m<module>\u001b[0;34m\u001b[0m\n\u001b[1;32m      1\u001b[0m \u001b[0;32mimport\u001b[0m \u001b[0mwarnings\u001b[0m\u001b[0;34m\u001b[0m\u001b[0;34m\u001b[0m\u001b[0m\n\u001b[1;32m      2\u001b[0m \u001b[0mwarnings\u001b[0m\u001b[0;34m.\u001b[0m\u001b[0mfilterwarnings\u001b[0m\u001b[0;34m(\u001b[0m\u001b[0;34m\"ignore\"\u001b[0m\u001b[0;34m)\u001b[0m\u001b[0;34m\u001b[0m\u001b[0;34m\u001b[0m\u001b[0m\n\u001b[0;32m----> 3\u001b[0;31m \u001b[0;32mimport\u001b[0m \u001b[0mkeras\u001b[0m\u001b[0;34m\u001b[0m\u001b[0;34m\u001b[0m\u001b[0m\n\u001b[0m",
      "\u001b[0;31mModuleNotFoundError\u001b[0m: No module named 'keras'"
     ]
    }
   ],
   "source": [
    "import warnings\n",
    "warnings.filterwarnings(\"ignore\")\n",
    "import keras"
   ]
  },
  {
   "cell_type": "markdown",
   "metadata": {},
   "source": [
    "otherwise run the following in the terminal\n",
    "\n",
    "<img src=\"pics/keras.png\" width=\"300\"/>\n",
    "\n",
    "# e-Book\n",
    "<a href=\"http://faculty.neu.edu.cn/yury/AAI/Textbook/Deep%20Learning%20with%20Python.pdf\"  style=\"font-size:30px\"><center>Download the book</a>\n",
    "<div>\n",
    "<img src=\"pics/cover.png\" width=\"300\"/>\n",
    "</div>\n"
   ]
  },
  {
   "cell_type": "markdown",
   "metadata": {},
   "source": [
    "# Introduction\n",
    "<div>\n",
    "<img src=\"pics/ai vs dl.png\" width=\"300\"/>\n",
    "    <img src=\"pics/ls.png\" width=\"300\"/>\n",
    "</div>\n"
   ]
  },
  {
   "cell_type": "markdown",
   "metadata": {},
   "source": [
    "# Data representations for neural networks\n",
    "\n",
    "Data stored in multidimensional Numpy\n",
    "arrays, also called tensors. \n",
    "\n",
    "In general, all current machine-learning systems use tensors\n",
    "as their basic data structure. "
   ]
  },
  {
   "cell_type": "code",
   "execution_count": null,
   "metadata": {},
   "outputs": [],
   "source": [
    " ## Scalars (0D tensors)"
   ]
  },
  {
   "cell_type": "code",
   "execution_count": 1,
   "metadata": {},
   "outputs": [
    {
     "name": "stdout",
     "output_type": "stream",
     "text": [
      "12\n",
      "0\n",
      "()\n"
     ]
    }
   ],
   "source": [
    "import numpy as np\n",
    "x = np.array(12)\n",
    "print(x)\n",
    "print(x.ndim)\n",
    "print(x.shape)"
   ]
  },
  {
   "cell_type": "markdown",
   "metadata": {},
   "source": [
    "## Vectors (1D tensors)"
   ]
  },
  {
   "cell_type": "code",
   "execution_count": 2,
   "metadata": {},
   "outputs": [
    {
     "name": "stdout",
     "output_type": "stream",
     "text": [
      "[12  3  6 14]\n",
      "1\n",
      "(4,)\n"
     ]
    }
   ],
   "source": [
    "x = np.array([12, 3, 6, 14])\n",
    "print(x)\n",
    "print(x.ndim)\n",
    "print(x.shape)"
   ]
  },
  {
   "cell_type": "markdown",
   "metadata": {},
   "source": [
    "## Matrices (2D tensors)"
   ]
  },
  {
   "cell_type": "code",
   "execution_count": 4,
   "metadata": {},
   "outputs": [
    {
     "name": "stdout",
     "output_type": "stream",
     "text": [
      "[[ 5 78  2 34  0]\n",
      " [ 6 79  3 35  1]\n",
      " [ 7 80  4 36  2]]\n",
      "2\n",
      "(3, 5)\n"
     ]
    }
   ],
   "source": [
    " x = np.array([[5, 78, 2, 34, 0],\n",
    "[6, 79, 3, 35, 1],\n",
    "[7, 80, 4, 36, 2]])\n",
    "print(x)\n",
    "print(x.ndim)\n",
    "print(x.shape)"
   ]
  },
  {
   "cell_type": "markdown",
   "metadata": {},
   "source": [
    "## 3D tensors and higher-dimensional tensors"
   ]
  },
  {
   "cell_type": "code",
   "execution_count": 5,
   "metadata": {},
   "outputs": [
    {
     "name": "stdout",
     "output_type": "stream",
     "text": [
      "[[[ 5 78  2 34  0]\n",
      "  [ 6 79  3 35  1]\n",
      "  [ 7 80  4 36  2]]\n",
      "\n",
      " [[ 5 78  2 34  0]\n",
      "  [ 6 79  3 35  1]\n",
      "  [ 7 80  4 36  2]]\n",
      "\n",
      " [[ 5 78  2 34  0]\n",
      "  [ 6 79  3 35  1]\n",
      "  [ 7 80  4 36  2]]]\n",
      "3\n",
      "(3, 3, 5)\n"
     ]
    }
   ],
   "source": [
    "x = np.array([[[5, 78, 2, 34, 0],\n",
    "[6, 79, 3, 35, 1],\n",
    "[7, 80, 4, 36, 2]],\n",
    "[[5, 78, 2, 34, 0],\n",
    "[6, 79, 3, 35, 1],\n",
    "[7, 80, 4, 36, 2]],\n",
    "[[5, 78, 2, 34, 0],\n",
    "[6, 79, 3, 35, 1],\n",
    "[7, 80, 4, 36, 2]]])\n",
    "print(x)\n",
    "print(x.ndim)\n",
    "print(x.shape)"
   ]
  },
  {
   "cell_type": "markdown",
   "metadata": {},
   "source": [
    "<div>\n",
    "<img src=\"pics/tensor.png\" width=\"500\"/>\n",
    "</div>\n",
    "<div>\n",
    "<img src=\"pics/tensor2.jpeg\" width=\"800\"/>\n",
    "</div>"
   ]
  },
  {
   "cell_type": "markdown",
   "metadata": {},
   "source": [
    "## MNIST\n",
    "It’s a set of 60,000 training\n",
    "images, plus 10,000 test images, assembled by the National Institute of Standards and\n",
    "Technology (the NIST in MNIST) in the 1980s. You can think of “solving” MNIST as the\n",
    "“Hello World” of deep learning—it’s what you do to verify that your algorithms are\n",
    "working as expected.\n",
    "<div>\n",
    "<img src=\"pics/mnist.png\" width=\"500\"/>\n",
    "</div>\n",
    "60,000 grayscale images of handwritten digits (28 × 28 pixels) into their 10 categories (0 through 9). We’ll use the MNIST\n",
    "dataset, a classic in the machine-learning community, which has been around almost\n",
    "as long as the field itself and has been intensively studied."
   ]
  },
  {
   "cell_type": "code",
   "execution_count": 6,
   "metadata": {},
   "outputs": [
    {
     "name": "stdout",
     "output_type": "stream",
     "text": [
      "3 we have here is a 3D tensor \n",
      "(60000, 28, 28) 60,000 matrices of 28 × 28 integers. \n",
      "uint8 8-bit integers\n"
     ]
    }
   ],
   "source": [
    "import keras\n",
    "from keras.datasets import mnist\n",
    "(train_images, train_labels), (test_images, test_labels) = mnist.load_data()\n",
    "print(train_images.ndim,\"we have here is a 3D tensor \")\n",
    "print(train_images.shape,\"60,000 matrices of 28 × 28 integers. \")\n",
    "print(train_images.dtype,\"8-bit integers\")"
   ]
  },
  {
   "cell_type": "markdown",
   "metadata": {},
   "source": [
    "## Displaying the fourth digit"
   ]
  },
  {
   "cell_type": "code",
   "execution_count": 8,
   "metadata": {},
   "outputs": [
    {
     "name": "stdout",
     "output_type": "stream",
     "text": [
      "2 we have here is a 2D tensor \n",
      "(28, 28) a matrix of 28 × 28 integers. \n"
     ]
    },
    {
     "data": {
      "image/png": "[encoded data removed]",
      "text/plain": [
       "<Figure size 432x288 with 1 Axes>"
      ]
     },
     "metadata": {
      "needs_background": "light"
     },
     "output_type": "display_data"
    }
   ],
   "source": [
    "digit = train_images[4]\n",
    "print(digit.ndim,\"we have here is a 2D tensor \")\n",
    "print(digit.shape,\"a matrix of 28 × 28 integers. \")\n",
    "import matplotlib.pyplot as plt\n",
    "plt.imshow(digit, cmap=plt.cm.binary)\n",
    "plt.show()"
   ]
  },
  {
   "cell_type": "markdown",
   "metadata": {
    "scrolled": false
   },
   "source": [
    "## Manipulating tensors in Numpy"
   ]
  },
  {
   "cell_type": "code",
   "execution_count": 9,
   "metadata": {},
   "outputs": [
    {
     "name": "stdout",
     "output_type": "stream",
     "text": [
      "we selects digits #10 to #100 (#100 isn’t included) and puts them in an array of shape (90, 28, 28)\n",
      "(90, 28, 28)\n",
      "(90, 28, 28) Equivalent to the previous example\n",
      "(90, 28, 28) Equivalent to the previous example\n"
     ]
    }
   ],
   "source": [
    "my_slice = train_images[10:100]\n",
    "print(\"we selects digits #10 to #100 (#100 isn’t included) and puts them in an array of shape (90, 28, 28)\")\n",
    "print(my_slice.shape)\n",
    "my_slice = train_images[10:100, :, :]\n",
    "print(my_slice.shape,\"Equivalent to the previous example\")\n",
    "my_slice = train_images[10:100, 0:28, 0:28]\n",
    "print(my_slice.shape,\"Equivalent to the previous example\")"
   ]
  },
  {
   "cell_type": "markdown",
   "metadata": {},
   "source": [
    "In general, you may select between any two indices along each tensor axis. For\n",
    "instance, in order to select 14 × 14 pixels in the bottom-right corner of all images, you\n",
    "do this:"
   ]
  },
  {
   "cell_type": "code",
   "execution_count": 10,
   "metadata": {},
   "outputs": [
    {
     "data": {
      "image/png": "[encoded data removed]",
      "text/plain": [
       "<Figure size 432x288 with 1 Axes>"
      ]
     },
     "metadata": {
      "needs_background": "light"
     },
     "output_type": "display_data"
    }
   ],
   "source": [
    "my_slice = train_images[:, 14:, 14:]\n",
    "digit = my_slice[4]\n",
    "import matplotlib.pyplot as plt\n",
    "plt.imshow(digit, cmap=plt.cm.binary)\n",
    "plt.show()"
   ]
  },
  {
   "cell_type": "markdown",
   "metadata": {},
   "source": [
    "It’s also possible to use negative indices. Much like negative indices in Python lists,\n",
    "they indicate a position relative to the end of the current axis. In order to crop the\n",
    "images to patches of 14 × 14 pixels centered in the middle, you do this:"
   ]
  },
  {
   "cell_type": "code",
   "execution_count": 11,
   "metadata": {},
   "outputs": [
    {
     "data": {
      "image/png": "[encoded data removed]",
      "text/plain": [
       "<Figure size 432x288 with 1 Axes>"
      ]
     },
     "metadata": {
      "needs_background": "light"
     },
     "output_type": "display_data"
    }
   ],
   "source": [
    "my_slice = train_images[:, 7:-7, 7:-7]\n",
    "digit = my_slice[4]\n",
    "import matplotlib.pyplot as plt\n",
    "plt.imshow(digit, cmap=plt.cm.binary)\n",
    "plt.show()"
   ]
  },
  {
   "cell_type": "markdown",
   "metadata": {},
   "source": [
    "## The notion of data batches\n",
    "\n",
    "In general, the first axis (axis 0, because indexing starts at 0) in all data tensors you’ll\n",
    "come across in deep learning will be the samples axis (sometimes called the samples\n",
    "dimension). In the MNIST example, samples are images of digits.\n",
    " In addition, deep-learning models don’t process an entire dataset at once; rather,\n",
    "they break the data into small batches. Concretely, here’s one batch of our MNIST digits, with batch size of 128:"
   ]
  },
  {
   "cell_type": "code",
   "execution_count": 12,
   "metadata": {},
   "outputs": [],
   "source": [
    "batch = train_images[:128]\n",
    "batch = train_images[128:256]\n",
    "n=125\n",
    "batch = train_images[128 * n:128 * (n + 1)]"
   ]
  },
  {
   "cell_type": "markdown",
   "metadata": {},
   "source": [
    "When considering such a batch tensor, the first axis (axis 0) is called the batch axis or\n",
    "batch dimension.\n",
    "\n",
    "## Real-world examples of data tensors\n",
    "\n",
    "* Vector data—2D tensors of shape (samples, features)\n",
    "* Timeseries data or sequence data—3D tensors of shape (samples, timesteps,\n",
    "features)\n",
    "* Images—4D tensors of shape (samples, height, width, channels) or (samples,\n",
    "channels, height, width)\n",
    "* Video—5D tensors of shape (samples, frames, height, width, channels) or\n",
    "(samples, frames, channels, height, width)\n",
    "\n"
   ]
  },
  {
   "cell_type": "markdown",
   "metadata": {},
   "source": [
    "## Vector data\n",
    "An actuarial dataset of people, where we consider each person’s age, ZIP code,\n",
    "and income. Each person can be characterized as a vector of 3 values, and thus\n",
    "an entire dataset of 100,000 people can be stored in a 2D tensor of shape\n",
    "(100000, 3).\n",
    "\n",
    "<div>\n",
    "<img src=\"pics/vect data.gif\" width=\"500\"/>\n",
    "</div>\n",
    "\n",
    "## Timeseries data or sequence data\n",
    "\n",
    "Whenever time matters in your data (or the notion of sequence order), it makes sense\n",
    "to store it in a 3D tensor with an explicit time axis. Each sample can be encoded as a\n",
    "sequence of vectors (a 2D tensor), and thus a batch of data will be encoded as a 3D\n",
    "tensor (see figure 2.3).\n",
    "<div>\n",
    "<img src=\"pics/ts.png\" width=\"500\"/>\n",
    "</div>\n",
    "\n",
    "## Image data  (Spatial feature learning)\n",
    "A batch of 128 grayscale images of\n",
    "size 256 × 256 could thus be stored in a tensor of shape (128, 256, 256, 1), and a\n",
    "batch of 128 color images could be stored in a tensor of shape (128, 256, 256, 3)\n",
    "<div>\n",
    "<img src=\"pics/im.png\" width=\"500\"/>\n",
    "</div>\n",
    "\n",
    "## Video data (Spatio-temporal feature learning)\n",
    "\n",
    "Video data is one of the few types of real-world data for which you’ll need 5D tensors.\n",
    "A video can be understood as a sequence of frames, each frame being a color image.\n",
    "Because each frame can be stored in a 3D tensor (height, width, color_depth), a\n",
    "sequence of frames can be stored in a 4D tensor (frames, height, width, color_\n",
    "depth), and thus a batch of different videos can be stored in a 5D tensor of shape\n",
    "(samples, frames, height, width, color_depth)."
   ]
  },
  {
   "cell_type": "markdown",
   "metadata": {},
   "source": [
    "# The gears of neural networks: tensor operations\n",
    "All transformations learned\n",
    "by deep neural networks can be reduced to a handful of tensor operations applied to\n",
    "tensors of numeric data. For instance, it’s possible to add tensors, multiply tensors,\n",
    "and so on.\n",
    "<div>\n",
    "<img src=\"pics/nn.png\" width=\"500\"/>\n",
    "</div>\n",
    "\n",
    "\n",
    "<div>\n",
    "<img src=\"pics/act-fun.jpg\" width=\"1000\"/>\n",
    "</div>\n",
    "\n",
    "\n",
    "\n",
    "\n",
    "* Two additional major benefits of ReLUs are sparsity and a reduced likelihood of vanishing gradient.\n",
    "\n",
    "* One point to mention is that the gradient is stronger for tanh than sigmoid ( derivatives are steeper). \n",
    "\n",
    "\n",
    "\n",
    " In our initial example, we were building our network by stacking Dense layers on\n",
    "top of each other. A Keras layer instance looks like this:"
   ]
  },
  {
   "cell_type": "code",
   "execution_count": 13,
   "metadata": {},
   "outputs": [
    {
     "data": {
      "text/plain": [
       "<keras.layers.core.Dense at 0x7fa130f23e90>"
      ]
     },
     "execution_count": 13,
     "metadata": {},
     "output_type": "execute_result"
    }
   ],
   "source": [
    "keras.layers.Dense(512, activation='relu')"
   ]
  },
  {
   "cell_type": "markdown",
   "metadata": {},
   "source": [
    "$$\\Huge output = relu(dot(W, input) + b)$$\n",
    "\n",
    "Let’s unpack this. We have three tensor operations here: \n",
    "+ a dot product (dot) between the input tensor and a tensor named W; \n",
    "+ an addition (+) between the resulting 2D tensor and a vector b; \n",
    "+ and, finally, a relu operation. relu(x) is max(x, 0)."
   ]
  },
  {
   "cell_type": "code",
   "execution_count": 14,
   "metadata": {},
   "outputs": [
    {
     "name": "stdout",
     "output_type": "stream",
     "text": [
      "x . y= [[ 10  -9]\n",
      " [ 11 -12]]\n",
      "z + b= [[ 11  -8]\n",
      " [ 13 -10]]\n",
      "max(z,0)= [[11  0]\n",
      " [13  0]]\n"
     ]
    }
   ],
   "source": [
    "import numpy as np\n",
    "x = np.array([[1,2],\n",
    "              [2,1]])\n",
    "y = np.array([[4,-5],\n",
    "              [3,-2]])\n",
    "z = np.dot(x, y)\n",
    "print(\"x . y=\",z)\n",
    "z = z + np.array([[1],[2]])\n",
    "print(\"z + b=\",z)\n",
    "z = np.maximum(z, 0)\n",
    "print(\"max(z,0)=\",z)\n"
   ]
  },
  {
   "cell_type": "markdown",
   "metadata": {},
   "source": [
    "<div>\n",
    "<img src=\"pics/dot prod.png\" width=\"500\"/>\n",
    "</div>\n",
    "\n",
    "# Tensor reshaping\n",
    "\n",
    "Reshaping a tensor means rearranging its rows and columns to match a target shape.\n",
    "Naturally, the reshaped tensor has the same total number of coefficients as the initial\n",
    "tensor. Reshaping is best understood via simple examples:"
   ]
  },
  {
   "cell_type": "code",
   "execution_count": 15,
   "metadata": {},
   "outputs": [
    {
     "name": "stdout",
     "output_type": "stream",
     "text": [
      "[[0. 1.]\n",
      " [2. 3.]\n",
      " [4. 5.]]\n",
      "the shape is (3, 2)\n",
      "[[0.]\n",
      " [1.]\n",
      " [2.]\n",
      " [3.]\n",
      " [4.]\n",
      " [5.]]\n",
      "[[0. 1. 2.]\n",
      " [3. 4. 5.]]\n"
     ]
    }
   ],
   "source": [
    "x = np.array([[0., 1.],\n",
    "[2., 3.],\n",
    "[4., 5.]])\n",
    "print(x)\n",
    "print(\"the shape is\",x.shape)\n",
    "x = x.reshape((6, 1))\n",
    "print(x)\n",
    "x = x.reshape((2, 3))\n",
    "print(x)"
   ]
  },
  {
   "cell_type": "markdown",
   "metadata": {},
   "source": [
    "## Geometric interpretation of tensor operations\n",
    "\n",
    "<div>\n",
    "<img src=\"pics/meaning of vec.png\" width=\"800\"/>\n",
    " <img src=\"pics/meaning of sum vec.png\" width=\"800\"/>\n",
    "\n",
    "</div>\n",
    "\n",
    "## A geometric interpretation of deep learning\n",
    "\n",
    "It follows that you can interpret a neural network as a very complex geometric transformation in a high-dimensional space, implemented via a long series of simple steps.\n",
    " \n",
    " In 3D, the following mental image may prove useful. Imagine two sheets of colored\n",
    "paper: one red and one blue. Put one on top of the other. Now crumple them\n",
    "together into a small ball. \n",
    "\n",
    "That crumpled paper ball is your input data, and each sheet\n",
    "of paper is a class of data in a classification problem. What a neural network (or any\n",
    "other machine-learning model) is meant to do is figure out a transformation of the\n",
    "paper ball that would uncrumple it, so as to make the two classes cleanly separable\n",
    "again. With deep learning, this would be implemented as a series of simple transformations of the 3D space, such as those you could apply on the paper ball with your fingers, one movement at a time.\n",
    "\n",
    "\n",
    "\n",
    "\n",
    "<div>\n",
    "<img src=\"pics/manifold.png\" width=\"800\"/>\n",
    "        $\\Huge \\text{We need to unfold the data.}$\n",
    "  <img src=\"pics/manifold2.jpeg\" width=\"800\"/>\n",
    "\n",
    "  <img src=\"pics/manifold.jpeg\" width=\"800\"/>\n",
    "  <img src=\"pics/spiral.gif\" width=\"500\"/>\n",
    "</div>\n",
    "\n",
    "# The engine of neural networks: gradient-based optimization\n",
    "\n",
    "\n",
    "\n",
    "\n",
    "<div>\n",
    "<img src=\"pics/dev.png\" width=\"300\"/>\n",
    "</div>\n",
    "\n",
    "## Gradient descent\n",
    "\n",
    "\n",
    " You can reduce $f(x)$ by moving $x$ in the opposite\n",
    "direction from the gradient: for example, $x_1 = x_0 - step * gradient(f)(x_0)$\n",
    "\n",
    "\n",
    "Note that the scaling factor step is needed\n",
    "because gradient only approximates the curvature when you’re close to $x_0$,\n",
    "so you don’t want to get too far from $x_0$.\n",
    "\n",
    "<div>\n",
    "<img src=\"pics/lr.png\" width=\"800\"/>\n",
    "</div>"
   ]
  },
  {
   "cell_type": "code",
   "execution_count": 16,
   "metadata": {
    "scrolled": true
   },
   "outputs": [
    {
     "data": {
      "image/png": "[encoded data removed]",
      "text/plain": [
       "<Figure size 432x288 with 1 Axes>"
      ]
     },
     "metadata": {
      "needs_background": "light"
     },
     "output_type": "display_data"
    }
   ],
   "source": [
    "def f(x):\n",
    "    y=x**2\n",
    "    return y\n",
    "import matplotlib.pyplot as plt\n",
    "x=np.arange(-10, 10, 0.2)\n",
    "y=f(x)\n",
    "plt.plot(x,y)\n",
    "plt.ylabel('some numbers')\n",
    "plt.show()\n"
   ]
  },
  {
   "cell_type": "code",
   "execution_count": 17,
   "metadata": {},
   "outputs": [
    {
     "name": "stdout",
     "output_type": "stream",
     "text": [
      "(4.980149483244654e-05, 5296)\n",
      "(4.853923665009301e-06, 640)\n",
      "(0.0004998872589312308, 41477)\n",
      "(-3.773159728050814, 100001, 'not converge')\n"
     ]
    }
   ],
   "source": [
    "def f(x):\n",
    "    y=x**2\n",
    "    return y\n",
    "def derivative(f,x):\n",
    "    e=0.00000000000001\n",
    "    return (f(x+e)-f(x))/e\n",
    "def SGD(f,x,step):\n",
    "    x_0=x\n",
    "    x_1=x_0-step*derivative(f,x)\n",
    "    index=1\n",
    "    while abs(x_0-x_1)>0.0000001:\n",
    "        x_0=x_1\n",
    "        x_1=x_0-step*derivative(f,x_0)\n",
    "        index+=1\n",
    "        if index>100000:\n",
    "            return x_1,index,\"not converge\"\n",
    "    return x_1,index\n",
    "print(SGD(f,2,0.001))\n",
    "print(SGD(f,2,0.01))\n",
    "print(SGD(f,2,0.0001))\n",
    "print(SGD(f,2,1))"
   ]
  },
  {
   "cell_type": "markdown",
   "metadata": {},
   "source": [
    "Gradient descent direction's cheaper to calculate, and performing a line search in that direction is a more reliable, steady source of progress toward an optimum. In short, gradient descent's relatively reliable.\n",
    "\n",
    "Newton's method is relatively expensive in that you need to calculate the Hessian on the first iteration. Then, on each subsequent iteration, you can either fully recalculate the Hessian (as in Newton's method) or merely \"update\" the prior iteration's Hessian (in quasi-Newton methods) which is cheaper but less robust.\n",
    "\n",
    "## Stochastic gradient descent\n",
    "\n",
    "1 Draw a batch (subsample) of training samples $x$ and corresponding targets $y$.\n",
    "\n",
    "2 Run the network on $x$ to obtain predictions $y_pred$.\n",
    "\n",
    "3 Compute the loss of the network on the batch, a measure of the mismatch\n",
    "between $y_pred$ and $y$.\n",
    "\n",
    "4 Compute the gradient of the loss with regard to the network’s parameters (a\n",
    "backward pass).\n",
    "\n",
    "5 Move the parameters a little in the opposite direction from the gradient—for\n",
    "example $\\beta_0=\\beta_1- step * gradient$ thus reducing the loss on the batch a bit.\n",
    "\n",
    "The term stochastic refers to the fact that each batch of data is drawn at\n",
    "random (stochastic is a scientific synonym of random).\n",
    "\n",
    "<div>\n",
    "<img src=\"pics/SGD.png\" width=\"500\"/>\n",
    "</div>\n",
    "\n",
    "Unlike the batch gradient descent which computes the gradient using the whole dataset, because the SGD, also known as incremental gradient descent, tries to find minimums or maximums by iteration from a single randomly picked training subsample.\n",
    "This can also have the advantage that stochastic gradient descent can escape shallow local minima more easily.\n",
    "\n",
    "In many big data setting (say several million data points), calculating cost or gradient takes very long time, because we need to sum over all data points.\n",
    "We do NOT need to have exact gradient to reduce the cost in a given iteration. \n",
    "\n",
    "Some approximation of gradient would work OK.\n",
    "\n",
    "\n",
    "\n",
    "\n",
    "## Local minimum vs Global minimum\n",
    "\n",
    "\n",
    "<div>\n",
    "<img src=\"pics/lm vs gm.png\" width=\"500\"/>\n",
    "</div>\n",
    "\n",
    "As you can see, around a certain parameter value, there is a local minimum: around\n",
    "that point, moving left would result in the loss increasing, but so would moving right.\n",
    "\n",
    "If the parameter under consideration were being optimized via SGD with a small\n",
    "learning rate, then the optimization process would get stuck at the local minimum\n",
    "instead of making its way to the global minimum.\n",
    "\n",
    "\n",
    " You can avoid such issues by using momentum, which draws inspiration from physics. A useful mental image here is to think of the optimization process as a small ball\n",
    "rolling down the loss curve. If it has enough momentum, the ball won’t get stuck in a\n",
    "ravine and will end up at the global minimum. \n",
    "\n",
    "<div>\n",
    "<img src=\"pics/mm.png\" width=\"200\"/>\n",
    "</div>\n",
    "\n",
    "\n",
    "Momentum is implemented by moving\n",
    "the ball at each step based not only on the current slope value (current acceleration)\n",
    "but also on the current velocity (resulting from past acceleration).\n",
    "\n",
    "<div>\n",
    "<img src=\"pics/mm al.png\" width=\"800\"/>\n",
    "</div>"
   ]
  },
  {
   "cell_type": "code",
   "execution_count": 18,
   "metadata": {},
   "outputs": [
    {
     "data": {
      "image/png": "[encoded data removed]",
      "text/plain": [
       "<Figure size 432x288 with 1 Axes>"
      ]
     },
     "metadata": {
      "needs_background": "light"
     },
     "output_type": "display_data"
    },
    {
     "name": "stdout",
     "output_type": "stream",
     "text": [
      "(2.9038989295077045, 53)\n",
      "(-3.43964815227082, 35)\n"
     ]
    }
   ],
   "source": [
    "def f(x):\n",
    "    y=x**4-20*(x-1/2)**2\n",
    "    return y\n",
    "import matplotlib.pyplot as plt\n",
    "x=np.arange(-5, 5, 0.2)\n",
    "y=f(x)\n",
    "plt.plot(x,y)\n",
    "plt.ylabel('some numbers')\n",
    "plt.show()\n",
    "print(SGD(f,5,0.001))\n",
    "print(SGD(f,-5,0.001))\n"
   ]
  },
  {
   "cell_type": "code",
   "execution_count": 19,
   "metadata": {
    "scrolled": false
   },
   "outputs": [
    {
     "name": "stdout",
     "output_type": "stream",
     "text": [
      "(-3.377025240067833, 6835)\n",
      "(-3.3799684481052354, 14742)\n"
     ]
    }
   ],
   "source": [
    "def f(x):\n",
    "    y=x**4-20*(x-1/2)**2\n",
    "    return y\n",
    "def SGD_mom(f,x,step):\n",
    "    past_velocity = 0.\n",
    "    momentum = 0.5\n",
    "    x_0=x\n",
    "    x_1=x_0-step*derivative(f,x)\n",
    "    index=1\n",
    "    while abs(x_0-x_1)>0.00001:\n",
    "        velocity = past_velocity * momentum + step*derivative(f,x_0)\n",
    "        x_0=x_1\n",
    "        x_1=x_0-velocity*momentum-step*derivative(f,x_0)\n",
    "        past_velocity = velocity\n",
    "        index+=1\n",
    "        if index>100000:\n",
    "            return x_1,index,\"not converge\"\n",
    "    return x_1,index\n",
    "\n",
    "print(SGD_mom(f,5,0.01))\n",
    "print(SGD_mom(f,-5,0.01))\n"
   ]
  },
  {
   "cell_type": "markdown",
   "metadata": {},
   "source": [
    "Does not have notion of where it is going so does not slow down before the hill slopes up again. It is not adpative\n",
    "\n",
    "## Chaining derivatives: the Backpropagation algorithm\n",
    "\n",
    "Applying the chain rule to the\n",
    "computation of the gradient values of a neural network gives rise to an algorithmcalled Backpropagation (also sometimes called reverse-mode differentiation). \n",
    "\n",
    "Backpropagation starts with the final loss value and works backward from the top layers to the bottom layers, applying the chain rule to compute the contribution that each parameter\n",
    "had in the loss value.\n",
    "\n",
    "<div>\n",
    "<img src=\"pics/nn.png\" width=\"500\"/>\n",
    "</div>\n",
    "\n",
    "\n",
    "<div>\n",
    "<img src=\"pics/back.png\" width=\"800\"/>\n",
    "</div>"
   ]
  },
  {
   "cell_type": "markdown",
   "metadata": {},
   "source": [
    "\n",
    "# Real data\n",
    "\n",
    "$\\Huge  \\color{red}{\\text{Restart the kernel before run the real data code!}}$\n",
    "\n",
    "## Loading MNIST dataset"
   ]
  },
  {
   "cell_type": "code",
   "execution_count": 1,
   "metadata": {},
   "outputs": [
    {
     "name": "stderr",
     "output_type": "stream",
     "text": [
      "Using TensorFlow backend.\n",
      "/Users/peter/opt/anaconda3/lib/python3.7/site-packages/tensorflow/python/framework/dtypes.py:516: FutureWarning: Passing (type, 1) or '1type' as a synonym of type is deprecated; in a future version of numpy, it will be understood as (type, (1,)) / '(1,)type'.\n",
      "  _np_qint8 = np.dtype([(\"qint8\", np.int8, 1)])\n",
      "/Users/peter/opt/anaconda3/lib/python3.7/site-packages/tensorflow/python/framework/dtypes.py:517: FutureWarning: Passing (type, 1) or '1type' as a synonym of type is deprecated; in a future version of numpy, it will be understood as (type, (1,)) / '(1,)type'.\n",
      "  _np_quint8 = np.dtype([(\"quint8\", np.uint8, 1)])\n",
      "/Users/peter/opt/anaconda3/lib/python3.7/site-packages/tensorflow/python/framework/dtypes.py:518: FutureWarning: Passing (type, 1) or '1type' as a synonym of type is deprecated; in a future version of numpy, it will be understood as (type, (1,)) / '(1,)type'.\n",
      "  _np_qint16 = np.dtype([(\"qint16\", np.int16, 1)])\n",
      "/Users/peter/opt/anaconda3/lib/python3.7/site-packages/tensorflow/python/framework/dtypes.py:519: FutureWarning: Passing (type, 1) or '1type' as a synonym of type is deprecated; in a future version of numpy, it will be understood as (type, (1,)) / '(1,)type'.\n",
      "  _np_quint16 = np.dtype([(\"quint16\", np.uint16, 1)])\n",
      "/Users/peter/opt/anaconda3/lib/python3.7/site-packages/tensorflow/python/framework/dtypes.py:520: FutureWarning: Passing (type, 1) or '1type' as a synonym of type is deprecated; in a future version of numpy, it will be understood as (type, (1,)) / '(1,)type'.\n",
      "  _np_qint32 = np.dtype([(\"qint32\", np.int32, 1)])\n",
      "/Users/peter/opt/anaconda3/lib/python3.7/site-packages/tensorflow/python/framework/dtypes.py:525: FutureWarning: Passing (type, 1) or '1type' as a synonym of type is deprecated; in a future version of numpy, it will be understood as (type, (1,)) / '(1,)type'.\n",
      "  np_resource = np.dtype([(\"resource\", np.ubyte, 1)])\n",
      "/Users/peter/opt/anaconda3/lib/python3.7/site-packages/tensorboard/compat/tensorflow_stub/dtypes.py:541: FutureWarning: Passing (type, 1) or '1type' as a synonym of type is deprecated; in a future version of numpy, it will be understood as (type, (1,)) / '(1,)type'.\n",
      "  _np_qint8 = np.dtype([(\"qint8\", np.int8, 1)])\n",
      "/Users/peter/opt/anaconda3/lib/python3.7/site-packages/tensorboard/compat/tensorflow_stub/dtypes.py:542: FutureWarning: Passing (type, 1) or '1type' as a synonym of type is deprecated; in a future version of numpy, it will be understood as (type, (1,)) / '(1,)type'.\n",
      "  _np_quint8 = np.dtype([(\"quint8\", np.uint8, 1)])\n",
      "/Users/peter/opt/anaconda3/lib/python3.7/site-packages/tensorboard/compat/tensorflow_stub/dtypes.py:543: FutureWarning: Passing (type, 1) or '1type' as a synonym of type is deprecated; in a future version of numpy, it will be understood as (type, (1,)) / '(1,)type'.\n",
      "  _np_qint16 = np.dtype([(\"qint16\", np.int16, 1)])\n",
      "/Users/peter/opt/anaconda3/lib/python3.7/site-packages/tensorboard/compat/tensorflow_stub/dtypes.py:544: FutureWarning: Passing (type, 1) or '1type' as a synonym of type is deprecated; in a future version of numpy, it will be understood as (type, (1,)) / '(1,)type'.\n",
      "  _np_quint16 = np.dtype([(\"quint16\", np.uint16, 1)])\n",
      "/Users/peter/opt/anaconda3/lib/python3.7/site-packages/tensorboard/compat/tensorflow_stub/dtypes.py:545: FutureWarning: Passing (type, 1) or '1type' as a synonym of type is deprecated; in a future version of numpy, it will be understood as (type, (1,)) / '(1,)type'.\n",
      "  _np_qint32 = np.dtype([(\"qint32\", np.int32, 1)])\n",
      "/Users/peter/opt/anaconda3/lib/python3.7/site-packages/tensorboard/compat/tensorflow_stub/dtypes.py:550: FutureWarning: Passing (type, 1) or '1type' as a synonym of type is deprecated; in a future version of numpy, it will be understood as (type, (1,)) / '(1,)type'.\n",
      "  np_resource = np.dtype([(\"resource\", np.ubyte, 1)])\n"
     ]
    }
   ],
   "source": [
    "from keras.datasets import mnist\n",
    "(train_images, train_labels), (test_images, test_labels) = mnist.load_data()\n",
    "train_images = train_images.reshape((60000, 28 * 28))\n",
    "train_images = train_images.astype('float32') / 255\n",
    "test_images = test_images.reshape((10000, 28 * 28))\n",
    "test_images = test_images.astype('float32') / 255\n",
    "from keras.utils import to_categorical\n",
    "train_labels = to_categorical(train_labels)\n",
    "test_labels = to_categorical(test_labels)"
   ]
  },
  {
   "cell_type": "markdown",
   "metadata": {},
   "source": [
    "## Add two layers"
   ]
  },
  {
   "cell_type": "code",
   "execution_count": 2,
   "metadata": {},
   "outputs": [],
   "source": [
    "from keras import models\n",
    "from keras import layers\n",
    "network = models.Sequential()\n",
    "network.add(layers.Dense(512, activation='relu', input_shape=(28 * 28,)))\n",
    "network.add(layers.Dense(10, activation='softmax'))"
   ]
  },
  {
   "cell_type": "markdown",
   "metadata": {},
   "source": [
    "<div>\n",
    "<img src=\"pics/nnar.png\" width=\"1000\"/>\n",
    "</div>\n"
   ]
  },
  {
   "cell_type": "markdown",
   "metadata": {},
   "source": [
    "## Optimisation\n",
    "In terms of artificial neural networks, an epoch refers to one cycle through the full training dataset. Usually, training a neural network takes more than a few epochs."
   ]
  },
  {
   "cell_type": "code",
   "execution_count": 3,
   "metadata": {},
   "outputs": [
    {
     "name": "stdout",
     "output_type": "stream",
     "text": [
      "WARNING:tensorflow:From /Users/peter/opt/anaconda3/lib/python3.7/site-packages/keras/backend/tensorflow_backend.py:422: The name tf.global_variables is deprecated. Please use tf.compat.v1.global_variables instead.\n",
      "\n",
      "Epoch 1/5\n",
      "60000/60000 [==============================] - 2s 41us/step - loss: 0.2545 - accuracy: 0.9251\n",
      "Epoch 2/5\n",
      "60000/60000 [==============================] - 2s 37us/step - loss: 0.1015 - accuracy: 0.9693\n",
      "Epoch 3/5\n",
      "60000/60000 [==============================] - 2s 38us/step - loss: 0.0676 - accuracy: 0.9791\n",
      "Epoch 4/5\n",
      "60000/60000 [==============================] - 2s 37us/step - loss: 0.0501 - accuracy: 0.9847\n",
      "Epoch 5/5\n",
      "60000/60000 [==============================] - 2s 38us/step - loss: 0.0375 - accuracy: 0.9888\n"
     ]
    },
    {
     "data": {
      "text/plain": [
       "<keras.callbacks.callbacks.History at 0x7fbd023c3e10>"
      ]
     },
     "execution_count": 3,
     "metadata": {},
     "output_type": "execute_result"
    }
   ],
   "source": [
    "network.compile(optimizer='rmsprop',\n",
    "loss='categorical_crossentropy',\n",
    "metrics=['accuracy'])\n",
    "network.fit(train_images, train_labels, epochs=5, batch_size=128)"
   ]
  },
  {
   "cell_type": "markdown",
   "metadata": {},
   "source": [
    "## Test accuracy"
   ]
  },
  {
   "cell_type": "code",
   "execution_count": 4,
   "metadata": {},
   "outputs": [
    {
     "name": "stdout",
     "output_type": "stream",
     "text": [
      "10000/10000 [==============================] - 0s 29us/step\n",
      "test_acc: 0.9799000024795532\n"
     ]
    }
   ],
   "source": [
    "test_loss, test_acc = network.evaluate(test_images, test_labels)\n",
    "print('test_acc:', test_acc)"
   ]
  },
  {
   "cell_type": "code",
   "execution_count": null,
   "metadata": {},
   "outputs": [],
   "source": []
  }
 ],
 "metadata": {
  "kernelspec": {
   "display_name": "Python 3",
   "language": "python",
   "name": "python3"
  },
  "language_info": {
   "codemirror_mode": {
    "name": "ipython",
    "version": 3
   },
   "file_extension": ".py",
   "mimetype": "text/x-python",
   "name": "python",
   "nbconvert_exporter": "python",
   "pygments_lexer": "ipython3",
   "version": "3.8.3"
  }
 },
 "nbformat": 4,
 "nbformat_minor": 2
}
